{
 "cells": [
  {
   "cell_type": "markdown",
   "metadata": {},
   "source": [
    "## Práctico Equilibrio General y Economía del Bienestar"
   ]
  },
  {
   "cell_type": "markdown",
   "metadata": {},
   "source": [
    "### Ejercicio 1 "
   ]
  },
  {
   "cell_type": "markdown",
   "metadata": {},
   "source": [
    "Considere una economía de intercambio (sin producción) con dos bienes y dos agentes económicos. Las dotaciones iniciales son:\n",
    "\n",
    "$ w_{1}^{A} = 100; ~~~w_{2}^{A} = 350; ~~~w_{1}^{B} = 100; ~~~w_{2}^{B} = 50$\n",
    "\n",
    "y las funciones de utilidad tienen la siguiente expresión:\n",
    "\n",
    "$u(x_{1}^{i}, x_{2}^{i}) = x_{1}^{i} x_{2}^{i}~~~~i = A,B$\n",
    "\n",
    "a) Obtenga la ecuación del conjunto de asignaciones Pareto-eficientes de esta economía. Represéntelo  gráficamente.\n",
    "b) Calcule el precio relativo de equilibrio y las asignaciones en el equilibrio para cada consumidor (suponga que el bien 1 es el numerario)."
   ]
  },
  {
   "cell_type": "markdown",
   "metadata": {},
   "source": [
    "### Ejercicio 2"
   ]
  },
  {
   "cell_type": "markdown",
   "metadata": {},
   "source": [
    "Considere una economía de intercambio puro con dos individuos (A y B) y dos bienes (1 y 2). Obtenga gráficamente el lugar geométrico de las asignaciones Pareto-eficientes en cada uno de los supuestos siguientes:\n",
    "\n",
    "a) Al individuo A tan sólo le produce utilidad la cantidad de bien 2 que consume, mientras que el bien 1 es para él un neutral. El sujeto B sólo obtiene utilidad de la cantidad de bien 1 que consume, mientras que el bien 2 es para él neutral.\n",
    "\n",
    "b) Idénticas preferencias que en a) pero suponiendo, además, que el sujeto B es envidioso en el sentido de que le produce insatisfacción el hecho de que el sujeto A consuma más del bien 2."
   ]
  },
  {
   "cell_type": "markdown",
   "metadata": {},
   "source": [
    "### Ejercicio 3"
   ]
  },
  {
   "cell_type": "markdown",
   "metadata": {},
   "source": [
    "Considere una economía de intercambio puro con dos bienes (1 y 2) y dos consumidores (A y B). Los consumidores tienen, respectivamente, las siguientes funciones de utilidad:\n",
    "\n",
    "$u^{A} = x_{1}^{A}x_{2}^{B}~~~~~u^{B} = min \\{x_{1}^{B}, x_{2}^{B} \\}$\n",
    "\n",
    "El consumidor A posee una dotación inicial de tres unidades de bien 1 y una unidad de bien 2; la dotación del consumidor B es de una unidad de bien 1 y tres de bien 2.\n",
    "\n",
    "a) Obtenga gráfica y analíticamente la expresión de las asignaciones de bienes Pareto-eficientes de esta economía.\n",
    "\n",
    "b) Obtenga el precio y la asignación de equilibrio walrasiano. (Considere al bien 2 como numerario, esto es, $p_{2}= 1$)\n",
    "\n",
    "c) Suponga que se establece que la mejor asignación para esta economía es: $\\hat x^{A}= (1,1); \\hat x^{B} = (3,3)$. Determine una distribución inicial de los bienes entre los dos individuos —diferente de $(\\hat x^{A}, \\hat x^{B})$ —que conduzca a que tal asignación pueda alcanzarse como equilibrio walrasiano de esta economía."
   ]
  },
  {
   "cell_type": "markdown",
   "metadata": {},
   "source": [
    "### Ejercicio 4"
   ]
  },
  {
   "cell_type": "markdown",
   "metadata": {},
   "source": [
    "Considere una economía de intercambio con dos únicos bienes (bien 1 y bien 2) y dos individuos (A y B). A tiene una dotación inicial que consiste en 20 unidades del bien 1 y 20 del bien 2. La dotación inicial de B consiste en 20 unidades del bien 1 y 40 del bien 2.\n",
    "\n",
    "A considera que los dos bienes son sustitutivos perfectos en una proporción 1 a 1. B considera que son complementarios perfectos y siempre quiere consumir 3 unidades del bien 2 por cada 2 del bien 1.\n",
    "\n",
    "a) Represente el Conjunto de Pareto de esta economía en una Caja de Edgeworth. Halle su expresión analítica.\n",
    "\n",
    "b) ¿Qué precio relativo será necesario para que A y B se sitúen en el Conjunto de Pareto dada su dotación inicial de bienes?\n",
    "\n",
    "c) ¿Qué ocurre con el Conjunto de Pareto si las cantidades disponibles de ambos bienes son iguales, como por ejemplo, 40 unidades del bien 1 y 40 unidades del bien 2?"
   ]
  },
  {
   "cell_type": "markdown",
   "metadata": {},
   "source": [
    "### Ejercicio 5"
   ]
  },
  {
   "cell_type": "markdown",
   "metadata": {},
   "source": [
    "Suponga una economía de intercambio puro formada por dos consumidores con preferencias regulares y un solo bien. Ambos agentes poseen dotaciones iniciales positivas del bien. Determine el conjunto de asignaciones Pareto-eficientes de esta economía. Determine la asignación de equilibrio walrasiano y el precio de equilibrio general competitivo."
   ]
  },
  {
   "cell_type": "markdown",
   "metadata": {},
   "source": [
    "### Ejercicio 6"
   ]
  },
  {
   "cell_type": "markdown",
   "metadata": {},
   "source": [
    "Considere una economía competitiva de intercambio puro con dos bienes y dos consumidores con preferencias regulares. Razone analíticamente la veracidad o falsedad de la siguiente afirmación: «Si todos los consumidores poseen las mismas dotaciones iniciales de los bienes y tienen, además, la misma estructura de preferencias, entonces no se producirá intercambio alguno entre ellos»."
   ]
  },
  {
   "cell_type": "markdown",
   "metadata": {},
   "source": [
    "### Ejercicio 7"
   ]
  },
  {
   "cell_type": "markdown",
   "metadata": {},
   "source": [
    "Suponga una economía sin producción con dos personas (A y B) y dos bienes (1 y 2). Al Sr. A sólo le gusta el bien 1 y no le importa para nada el bien 2. Al Sr. B, por el contrario, sólo le importa el bien 2, mientras que el 1 le resulta neutral. Imagine que, inicialmente, el Sr. A posea todas las existencias del bien 1 y que el Sr. 2 posea todas las del bien 2.\n",
    "\n",
    "a) ¿Dónde están los óptimos de Pareto de esta economía?\n",
    "\n",
    "b) ¿Existe equilibrio walrasiano?, ¿para qué precios y cantidades?\n",
    "\n",
    "c) Imagine ahora que en la dotación inicial ambos agentes poseen cantidades positivas de ambos bienes. ¿Existe equilibrio walrasiano?, ¿dónde?"
   ]
  },
  {
   "cell_type": "markdown",
   "metadata": {},
   "source": [
    "### Ejercicio 8"
   ]
  },
  {
   "cell_type": "markdown",
   "metadata": {},
   "source": [
    "Considere las siguientes funciones indirectas de utilidad de dos consumidores A y B:\n",
    "\n",
    "$v^{A} (p_{1}, p_{2}, m) = ln~ m - \\frac{1}{2} ln~ p_{1} - \\frac{1}{2} ln~ p_{2}  $\n",
    "\n",
    "$v^{B} (p_{1}, p_{2}, m) = (p_{1}^{-1} +   p_{2}^{-1})m$\n",
    "\n",
    "Cada uno de los consumidores dispone como dotación inicial de 5,8 unidades del bien 1 y 2,1 unidades del bien 2. Calcule el precio relativo de equilibrio competitivo en esta economía, suponiendo que el bien1 es el numerario $(p_{1} = 1)$."
   ]
  },
  {
   "cell_type": "markdown",
   "metadata": {},
   "source": [
    "### Ejercicio 9"
   ]
  },
  {
   "cell_type": "markdown",
   "metadata": {},
   "source": [
    "Obtenga la Frontera de Posibilidades de Producción $(FPP)$ en una economía con dos outputs (1 y 2), obtenidos a partir de dos factores $(z_{1} y z_{2})$, sabiendo que las funciones de producción de los dos outputs son las siguientes:\n",
    "\n",
    "$q_{1} = z_{1}^{1} + z_{2^{1}}  ~~~~~~~~q_{2} = 2 z_{1}^{2} +  z_{2}^{2} $\n",
    "\n",
    "y que las dotaciones factoriales totales en la economía son $\\bar z_{1} = 2; \\bar z_{2} = 2 $"
   ]
  },
  {
   "cell_type": "markdown",
   "metadata": {},
   "source": [
    "### Ejercicio 10"
   ]
  },
  {
   "cell_type": "markdown",
   "metadata": {},
   "source": [
    "Suponga una economía en la que se producen dos mercancías $(q_{1} y q_{2})$ a partir de dos inputs $z_{1}$ y $z_{2}$ de acuerdo\n",
    "con las siguientes funciones de producción:\n",
    "\n",
    "\n",
    "$ q_{1} = (z_{2}^{1})^{1/2} (z_{2}^{1})^{1/2}$\n",
    "\n",
    "$ q_{2} = (z_{2}^{2})^{1/3} (z_{2}^{2})^{2/3}$\n",
    "\n",
    "\n",
    "donde $z_{f}^{j}$ representa la cantidad del input $f$ utilizado por la empresa $j$.\n",
    "La cantidad de ambos inputs en la economía está limitada, de modo que sólo se dispone de $\\bar z_{1}$ del primer factor y de $\\bar z_{2} $ del segundo.\n",
    "\n",
    "a) Halle el conjunto de asignaciones Pareto-eficientes en la producción.\n",
    "\n",
    "b) ¿Sería productivamente eficiente una asignación igualitaria de los factores entre las dos empresas?"
   ]
  },
  {
   "cell_type": "markdown",
   "metadata": {},
   "source": [
    "### Ejercicio 11"
   ]
  },
  {
   "cell_type": "markdown",
   "metadata": {},
   "source": [
    "Suponga una economía en la que se producen dos bienes a partir de un único input de acuerdo con las siguientes funciones de producción:\n",
    "\n",
    "$q_{1} = \\alpha z^{1}~~~~~~~~q_{2} = \\beta z^{2}$ \n",
    "\n",
    "donde $q_{1}$ y $q_{2}$ representan los outputs, $z^{1}$ y $z^{2}$ representan las cantidades de input utilizadas por cada\n",
    "empresa y $\\alpha$ y $\\beta$ son parámetros positivos. En la economía existe un único consumidor que posee las empresas y la totalidad del input $(\\bar z)$ que no es directamente consumible. Este consumidor obtiene utilidad de los bienes de consumo de acuerdo con la siguiente función: $u(x_{1}, x_{2}) = x_{1} x_{2}$\n",
    "\n",
    "Obtenga el precio relativo y la asignación de bienes correspondientes al equilibrio walrasiano y compruebe que es Pareto-eficiente."
   ]
  },
  {
   "cell_type": "markdown",
   "metadata": {},
   "source": [
    "### Ejercicio 12"
   ]
  },
  {
   "cell_type": "markdown",
   "metadata": {},
   "source": [
    "Suponga una economía en la que se producen dos bienes con un único input $z$, cuyas existencias totales $(\\bar z)$ están dadas. Las funciones de producción de los bienes son:\n",
    "\n",
    "$ q_{1} = (z^{1})^{\\alpha}  ~~~~~ q_{2} = (z^{2})^{\\beta}~~~> 0 $\n",
    "\n",
    "\n",
    "donde $z^{1}$ y $z^{2}$ son las cantidades del factor empleadas en la producción del bien 1 y del bien 2, respectivamente.\n",
    "\n",
    "a) Halle la expresión de la Frontera de Posibilidades de Producción $(FPP)$ o Curva de Transformación de esta economía.\n",
    "\n",
    "b) Imponiendo las condiciones adecuadas sobre los parámetros $\\alpha$ y $\\beta$, demuestre que si ambas funciones de producción son estrictamente cóncavas, entonces la $FPP$ será también estrictamente cóncava."
   ]
  },
  {
   "cell_type": "markdown",
   "metadata": {},
   "source": []
  },
  {
   "cell_type": "code",
   "execution_count": null,
   "metadata": {},
   "outputs": [],
   "source": []
  }
 ],
 "metadata": {
  "kernelspec": {
   "display_name": "Python 3",
   "language": "python",
   "name": "python3"
  },
  "language_info": {
   "codemirror_mode": {
    "name": "ipython",
    "version": 3
   },
   "file_extension": ".py",
   "mimetype": "text/x-python",
   "name": "python",
   "nbconvert_exporter": "python",
   "pygments_lexer": "ipython3",
   "version": "3.7.0"
  }
 },
 "nbformat": 4,
 "nbformat_minor": 2
}
